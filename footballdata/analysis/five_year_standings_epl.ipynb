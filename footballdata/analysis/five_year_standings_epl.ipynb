{
 "cells": [
  {
   "cell_type": "code",
   "execution_count": 1,
   "metadata": {},
   "outputs": [],
   "source": [
    "import re\n",
    "import sys\n",
    "import numpy as np\n",
    "import pandas as pd\n",
    "import plotly.express as px\n",
    "\n",
    "# sys.path.append(\"/home/grgkaralis/Documents/FootballData/footballdata\")\n",
    "\n",
    "from footballdata.plots import plot_line\n",
    "from footballdata.library import seasons_list"
   ]
  },
  {
   "attachments": {},
   "cell_type": "markdown",
   "metadata": {},
   "source": [
    "### How many games does a team needs to win to be crowned champions?\n",
    "\n",
    "First we will need to import the standing tables"
   ]
  },
  {
   "cell_type": "code",
   "execution_count": null,
   "metadata": {},
   "outputs": [],
   "source": [
    "p_dir = \"../frames/England/1/\"\n",
    "seasons = {\n",
    "    \"2017-2018\": \"standings_table.xlsx\",\n",
    "    \"2018-2019\": \"standings_table.xlsx\",\n",
    "    \"2019-2020\": \"standings_table.xlsx\",\n",
    "    \"2020-2021\": \"standings_table.xlsx\",\n",
    "    \"2021-2022\": \"standings_table.xlsx\",\n",
    "}\n",
    "dfs = {}\n",
    "for season, file in seasons.items():\n",
    "    dfs[season] = pd.read_excel(f\"{p_dir}{season}/{file}\")\n",
    "    dfs[season].drop(columns=\"Unnamed: 0\", inplace=True)"
   ]
  },
  {
   "cell_type": "code",
   "execution_count": null,
   "metadata": {},
   "outputs": [],
   "source": [
    "for season, standings_table in dfs.items():\n",
    "    seas_short = f\"{season[2:5]}{season[-2:]}\"\n",
    "    standings_table[\"Season\"] = seas_short\n",
    "\n",
    "five_yrs_standings = pd.concat(dfs.values(), ignore_index=True)"
   ]
  },
  {
   "attachments": {},
   "cell_type": "markdown",
   "metadata": {},
   "source": [
    "### How many Points did the Big-4 gathered for each of the last 5 seasons?"
   ]
  },
  {
   "cell_type": "code",
   "execution_count": null,
   "metadata": {},
   "outputs": [],
   "source": [
    "top5 = five_yrs_standings[five_yrs_standings.Rk <= 5]\n",
    "top5[[\"Squad\", \"Pts\", \"Season\", \"Rk\"]].reset_index(drop=True)"
   ]
  },
  {
   "cell_type": "code",
   "execution_count": null,
   "metadata": {},
   "outputs": [],
   "source": [
    "x_axis = {\"col_name\": top5.Season, \"xaxis_title\": \"Season\"}\n",
    "y_axis = {\"col_name\": top5.Pts, \"yaxis_title\": \"Points\"}\n",
    "col = {\"col_name\": top5.Rk, \"legend_title\": \"Standings\"}\n",
    "plot_line(top5, x_axis=x_axis, y_axis=y_axis, col=col, template=\"plotly_dark\")"
   ]
  },
  {
   "attachments": {},
   "cell_type": "markdown",
   "metadata": {},
   "source": [
    "<link href=\"../styles/styles.css\" rel=\"stylesheet\"></link>\n",
    "\n",
    "<h3 class=bold>The most consistent teams in the English Premier League the last 5 years have been without surprise <span class=team id=man_city> Manchester City </span> and <span class=team id=liverpool>Liverpool</span>.</h3>\n",
    "\n",
    "\n",
    "<li> <span class=team id=man_city> Manchester City </span> has won the league an impressive 4 out of the possible 5 times. Setting a Premier League Record of <span class=bold>100</span> points. </li>\n",
    "<li> With <span class=team id=liverpool>Liverpool</span> winning it once and finishing 2nd with <span class=bold>a single point margin</span> from the first in two separate occasions.</li>\n",
    "\n",
    "<h4 class=bold><span class=team id=man_city>City</span> has been by far the most successful side out of the two. </h4>\n",
    "\n",
    "\n",
    "\n"
   ]
  },
  {
   "cell_type": "code",
   "execution_count": null,
   "metadata": {},
   "outputs": [],
   "source": [
    "top4 = (\n",
    "    pd.DataFrame(top5[top5[\"Rk\"] <= 4][[\"Squad\", \"Rk\"]].value_counts())\n",
    "    .reset_index()\n",
    "    .rename(columns={0: \"Times in Position\"})\n",
    "    .sort_values(by=[\"Rk\"])\n",
    ")\n",
    "top4"
   ]
  },
  {
   "attachments": {},
   "cell_type": "markdown",
   "metadata": {},
   "source": [
    "<link href=\"../styles/styles.css\" rel=\"stylesheet\"></link>\n",
    "\n",
    "<h3 class=bold> The other 3 names that occur in the Top 4 the last half decade are <span class=team id=chelsea>Chelsea</span>, <span class=team id=man_utd>Manchester United</span> and <span class=team id=spurs>Tottenham</span> </h1>\n",
    "\n",
    "<li> The <span class=team id=chelsea>Blues</span> have qualified for the <span class=bold>UEFA Champions League</span> in 4 different occasions. But they have never finished above the 3rd position the last 5 years.</li> \n",
    "<li> On the other hand <span class=team id=man_utd>Manchester United</span> have finished 2nd below their fellow citizens two times. But in both occasions they were closer to the 3rd position than to winning the league.</li>\n",
    "<li> <span class=team id=spurs>Tottenham</span> as <span class=team id=man_utd >Manchester United</span> have qualified 3 times the last 5 years in the biggest club competition.</li>\n",
    "\n",
    "\n",
    "\n"
   ]
  },
  {
   "cell_type": "code",
   "execution_count": null,
   "metadata": {},
   "outputs": [],
   "source": [
    "top4_occ = (\n",
    "    pd.DataFrame(top5[top5[\"Rk\"] <= 4][[\"Squad\"]].value_counts())\n",
    "    .reset_index()\n",
    "    .rename(columns={0: \"Times in Position\"})\n",
    ")\n",
    "top4_occ"
   ]
  },
  {
   "cell_type": "markdown",
   "metadata": {},
   "source": []
  },
  {
   "cell_type": "markdown",
   "metadata": {},
   "source": []
  },
  {
   "cell_type": "code",
   "execution_count": null,
   "metadata": {},
   "outputs": [],
   "source": [
    "x_axis = {\"col_name\": top5.Season, \"xaxis_title\": \"Season\"}\n",
    "y_axis = {\"col_name\": top5.Pts, \"yaxis_title\": \"Points\"}\n",
    "col = {\"col_name\": top5.Rk, \"legend_title\": \"Standings\"}\n",
    "plot_line(top5, x_axis=x_axis, y_axis=y_axis, col=col, template=\"plotly_dark\")"
   ]
  },
  {
   "cell_type": "code",
   "execution_count": null,
   "metadata": {},
   "outputs": [],
   "source": []
  }
 ],
 "metadata": {
  "kernelspec": {
   "display_name": "f_venv",
   "language": "python",
   "name": "python3"
  },
  "language_info": {
   "codemirror_mode": {
    "name": "ipython",
    "version": 3
   },
   "file_extension": ".py",
   "mimetype": "text/x-python",
   "name": "python",
   "nbconvert_exporter": "python",
   "pygments_lexer": "ipython3",
   "version": "3.11.1"
  },
  "orig_nbformat": 4,
  "vscode": {
   "interpreter": {
    "hash": "b219bb25f2983647e3989600558b4c91a838e133b06483909f710a157dc52885"
   }
  }
 },
 "nbformat": 4,
 "nbformat_minor": 2
}
