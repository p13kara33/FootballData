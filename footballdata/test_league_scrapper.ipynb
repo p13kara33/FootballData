{
 "cells": [
  {
   "cell_type": "code",
   "execution_count": 1,
   "metadata": {},
   "outputs": [],
   "source": [
    "import logging\n",
    "from settings import leagues, LEAGUE_URL\n",
    "from footballdata.library import (\n",
    "    clean_main_df,\n",
    "    clean_opp_df,\n",
    "    merge_dfs,\n",
    "    get_season_years,\n",
    "    edit_regular_season_table,\n",
    "    edit_home_away_table,\n",
    "    edit_standard_stats_table,\n",
    "    edit_gk_tables,\n",
    "    SetScraper,\n",
    ")\n",
    "import numpy as np\n",
    "import pandas as pd\n",
    "\n",
    "import json\n",
    "import requests\n",
    "import time\n",
    "from typing import Dict\n",
    "from selenium import webdriver\n",
    "from selenium.common.exceptions import WebDriverException\n",
    "import bs4"
   ]
  },
  {
   "cell_type": "code",
   "execution_count": 2,
   "metadata": {},
   "outputs": [],
   "source": [
    "old = \"https://fbref.com/en/comps/9/2015-2016\"\n",
    "new = \"https://fbref.com/en/comps/9/2017-2018/\""
   ]
  },
  {
   "cell_type": "code",
   "execution_count": 3,
   "metadata": {},
   "outputs": [],
   "source": [
    "seasons_data = SetScraper().get_single_season_league_dfs(\n",
    "    country=\"England\", tier=1, year=2018\n",
    ")"
   ]
  },
  {
   "cell_type": "code",
   "execution_count": 4,
   "metadata": {},
   "outputs": [
    {
     "data": {
      "text/plain": [
       "dict_keys(['standings_table', 'home', 'away', 'h-a', 'h_div_a', 'standard_data', 'gk_overall', 'gk_advanced', 'shooting', 'passing', 'pass_type', 'gca', 'defensive_actions', 'possession', 'other'])"
      ]
     },
     "execution_count": 4,
     "metadata": {},
     "output_type": "execute_result"
    }
   ],
   "source": [
    "seasons_data.keys()"
   ]
  },
  {
   "cell_type": "code",
   "execution_count": 5,
   "metadata": {},
   "outputs": [
    {
     "data": {
      "text/plain": [
       "dict_keys(['standings_table', 'home', 'away', 'h-a', 'h_div_a', 'standard_data', 'gk_overall', 'shooting', 'other'])"
      ]
     },
     "execution_count": 5,
     "metadata": {},
     "output_type": "execute_result"
    }
   ],
   "source": [
    "seasons_data_15 = SetScraper().get_single_season_league_dfs(\n",
    "    country=\"England\", tier=1, year=2015\n",
    ")\n",
    "seasons_data_15.keys()"
   ]
  },
  {
   "cell_type": "code",
   "execution_count": null,
   "metadata": {},
   "outputs": [],
   "source": []
  }
 ],
 "metadata": {
  "kernelspec": {
   "display_name": "f_venv",
   "language": "python",
   "name": "python3"
  },
  "language_info": {
   "codemirror_mode": {
    "name": "ipython",
    "version": 3
   },
   "file_extension": ".py",
   "mimetype": "text/x-python",
   "name": "python",
   "nbconvert_exporter": "python",
   "pygments_lexer": "ipython3",
   "version": "3.11.1"
  },
  "orig_nbformat": 4,
  "vscode": {
   "interpreter": {
    "hash": "b219bb25f2983647e3989600558b4c91a838e133b06483909f710a157dc52885"
   }
  }
 },
 "nbformat": 4,
 "nbformat_minor": 2
}
