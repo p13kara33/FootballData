{
 "cells": [
  {
   "cell_type": "code",
   "execution_count": 37,
   "metadata": {},
   "outputs": [],
   "source": [
    "import requests\n",
    "from bs4 import BeautifulSoup\n",
    "\n",
    "from settings import leagues \n",
    "\n",
    "# function to extract html document from given url\n",
    "def getHTMLdocument(url):\n",
    "      \n",
    "    # request for HTML document of given url\n",
    "    response = requests.get(url)\n",
    "      \n",
    "    # response will be provided in JSON format\n",
    "    return response.content\n",
    "\n",
    "my_dict = {}\n",
    "\n",
    "for country in leagues:\n",
    "    national_divisions = leagues[country]\n",
    "    for tier in national_divisions:\n",
    "        year = 1980\n",
    "        tier_id = national_divisions[tier][\"id\"]\n",
    "        print(f\"Getting player data for {national_divisions[tier]['name']}\")\n",
    "\n",
    "        while year < 2022:\n",
    "            url = f\"https://fbref.com/en/comps/{tier_id}/{year}-{year+1}/stats/\"\n",
    "            year += 1\n",
    "            html_document = getHTMLdocument(url)\n",
    "            soup = BeautifulSoup(html_document, \"html.parser\")\n",
    "            print(f\"Season {year}-{year+1}\")\n",
    "            for tr in soup.find_all('table'):\n",
    "                tds = tr.find_all('td') \n",
    "                for td in tds:\n",
    "                    if td.get(\"data-append-csv\"):\n",
    "\n",
    "                        player_url = td.find(\"a\").get(\"href\")\n",
    "                        pl_list = player_url.split(\"/\")\n",
    "                        player_id = pl_list[3]\n",
    "                        player_name = pl_list[4]\n",
    "                        if player_name in my_dict.keys():\n",
    "                            continue\n",
    "                        my_dict[player_name] = {\"id\": player_id, \"url\":player_url}\n",
    "        print(f\"{'='*80}\")"
   ]
  },
  {
   "cell_type": "code",
   "execution_count": 41,
   "metadata": {},
   "outputs": [],
   "source": [
    "url = \"https://fbref.com/en/comps/10/2017-2018/stats/2017-2018-Championship-Stats\""
   ]
  },
  {
   "cell_type": "code",
   "execution_count": 42,
   "metadata": {},
   "outputs": [],
   "source": [
    "html_document = getHTMLdocument(url)\n",
    "soup = BeautifulSoup(html_document, \"html.parser\")\n",
    "for tr in soup.find_all('table'):\n",
    "    tds = tr.find_all('td') \n",
    "    for td in tds:\n",
    "        if td.get(\"data-append-csv\"):\n",
    "            player_url = td.find(\"a\").get(\"href\")\n",
    "            pl_list = player_url.split(\"/\")\n",
    "            player_id = pl_list[3]\n",
    "            player_name = pl_list[4]\n",
    "            if player_name in my_dict.keys():\n",
    "                continue\n",
    "            my_dict[player_name] = {\"id\": player_id, \"url\":player_url}"
   ]
  },
  {
   "cell_type": "code",
   "execution_count": 43,
   "metadata": {},
   "outputs": [
    {
     "data": {
      "text/plain": [
       "[]"
      ]
     },
     "execution_count": 43,
     "metadata": {},
     "output_type": "execute_result"
    }
   ],
   "source": [
    "soup.findAll(\"td\", {\"data-stat\": \"player\"})"
   ]
  },
  {
   "cell_type": "code",
   "execution_count": 44,
   "metadata": {},
   "outputs": [
    {
     "data": {
      "text/plain": [
       "<!DOCTYPE html>\n",
       "\n",
       "<!--[if lt IE 7]> <html class=\"no-js ie6 oldie\" lang=\"en-US\"> <![endif]-->\n",
       "<!--[if IE 7]>    <html class=\"no-js ie7 oldie\" lang=\"en-US\"> <![endif]-->\n",
       "<!--[if IE 8]>    <html class=\"no-js ie8 oldie\" lang=\"en-US\"> <![endif]-->\n",
       "<!--[if gt IE 8]><!--> <html class=\"no-js\" lang=\"en-US\"> <!--<![endif]-->\n",
       "<head>\n",
       "<title>Access denied | fbref.com used Cloudflare to restrict access</title>\n",
       "<meta charset=\"utf-8\"/>\n",
       "<meta content=\"text/html; charset=utf-8\" http-equiv=\"Content-Type\"/>\n",
       "<meta content=\"IE=Edge\" http-equiv=\"X-UA-Compatible\"/>\n",
       "<meta content=\"noindex, nofollow\" name=\"robots\"/>\n",
       "<meta content=\"width=device-width,initial-scale=1\" name=\"viewport\"/>\n",
       "<link href=\"/cdn-cgi/styles/main.css\" id=\"cf_styles-css\" rel=\"stylesheet\"/>\n",
       "<script>\n",
       "(function(){if(document.addEventListener&&window.XMLHttpRequest&&JSON&&JSON.stringify){var e=function(a){var c=document.getElementById(\"error-feedback-survey\"),d=document.getElementById(\"error-feedback-success\"),b=new XMLHttpRequest;a={event:\"feedback clicked\",properties:{errorCode:1015,helpful:a,version:1}};b.open(\"POST\",\"https://sparrow.cloudflare.com/api/v1/event\");b.setRequestHeader(\"Content-Type\",\"application/json\");b.setRequestHeader(\"Sparrow-Source-Key\",\"c771f0e4b54944bebf4261d44bd79a1e\");\n",
       "b.send(JSON.stringify(a));c.classList.add(\"feedback-hidden\");d.classList.remove(\"feedback-hidden\")};document.addEventListener(\"DOMContentLoaded\",function(){var a=document.getElementById(\"error-feedback\"),c=document.getElementById(\"feedback-button-yes\"),d=document.getElementById(\"feedback-button-no\");\"classList\"in a&&(a.classList.remove(\"feedback-hidden\"),c.addEventListener(\"click\",function(){e(!0)}),d.addEventListener(\"click\",function(){e(!1)}))})}})();\n",
       "</script>\n",
       "<script defer=\"\" src=\"https://performance.radar.cloudflare.com/beacon.js\"></script>\n",
       "</head>\n",
       "<body>\n",
       "<div id=\"cf-wrapper\">\n",
       "<div class=\"cf-alert cf-alert-error cf-cookie-error hidden\" data-translate=\"enable_cookies\" id=\"cookie-alert\">Please enable cookies.</div>\n",
       "<div class=\"p-0\" id=\"cf-error-details\">\n",
       "<header class=\"mx-auto pt-10 lg:pt-6 lg:px-8 w-240 lg:w-full mb-15 antialiased\">\n",
       "<h1 class=\"inline-block md:block mr-2 md:mb-2 font-light text-60 md:text-3xl text-black-dark leading-tight\">\n",
       "<span data-translate=\"error\">Error</span>\n",
       "<span>1015</span>\n",
       "</h1>\n",
       "<span class=\"inline-block md:block heading-ray-id font-mono text-15 lg:text-sm lg:leading-relaxed\">Ray ID: 783e2b48e87376ab •</span>\n",
       "<span class=\"inline-block md:block heading-ray-id font-mono text-15 lg:text-sm lg:leading-relaxed\">2023-01-03 19:33:57 UTC</span>\n",
       "<h2 class=\"text-gray-600 leading-1.3 text-3xl lg:text-2xl font-light\">You are being rate limited</h2>\n",
       "</header>\n",
       "<section class=\"w-240 lg:w-full mx-auto mb-8 lg:px-8\">\n",
       "<div class=\"w-1/2 md:w-full\" id=\"what-happened-section\">\n",
       "<h2 class=\"text-3xl leading-tight font-normal mb-4 text-black-dark antialiased\" data-translate=\"what_happened\">What happened?</h2>\n",
       "<p>The owner of this website (fbref.com) has banned you temporarily from accessing this website.</p>\n",
       "</div>\n",
       "</section>\n",
       "<div class=\"feedback-hidden py-8 text-center\" id=\"error-feedback\">\n",
       "<div class=\"footer-line-wrapper\" id=\"error-feedback-survey\">\n",
       "        Was this page helpful?\n",
       "        <button class=\"border border-solid bg-white cf-button cursor-pointer ml-4 px-4 py-2 rounded\" id=\"feedback-button-yes\" type=\"button\">Yes</button>\n",
       "<button class=\"border border-solid bg-white cf-button cursor-pointer ml-4 px-4 py-2 rounded\" id=\"feedback-button-no\" type=\"button\">No</button>\n",
       "</div>\n",
       "<div class=\"feedback-success feedback-hidden\" id=\"error-feedback-success\">\n",
       "        Thank you for your feedback!\n",
       "    </div>\n",
       "</div>\n",
       "<div class=\"cf-error-footer cf-wrapper w-240 lg:w-full py-10 sm:py-4 sm:px-8 mx-auto text-center sm:text-left border-solid border-0 border-t border-gray-300\">\n",
       "<p class=\"text-13\">\n",
       "<span class=\"cf-footer-item sm:block sm:mb-1\">Cloudflare Ray ID: <strong class=\"font-semibold\">783e2b48e87376ab</strong></span>\n",
       "<span class=\"cf-footer-separator sm:hidden\">•</span>\n",
       "<span class=\"cf-footer-item hidden sm:block sm:mb-1\" id=\"cf-footer-item-ip\">\n",
       "      Your IP:\n",
       "      <button class=\"cf-footer-ip-reveal-btn\" id=\"cf-footer-ip-reveal\" type=\"button\">Click to reveal</button>\n",
       "<span class=\"hidden\" id=\"cf-footer-ip\">81.102.233.45</span>\n",
       "<span class=\"cf-footer-separator sm:hidden\">•</span>\n",
       "</span>\n",
       "<span class=\"cf-footer-item sm:block sm:mb-1\"><span>Performance &amp; security by</span> <a href=\"https://www.cloudflare.com/5xx-error-landing\" id=\"brand_link\" rel=\"noopener noreferrer\" target=\"_blank\">Cloudflare</a></span>\n",
       "</p>\n",
       "<script>(function(){function d(){var b=a.getElementById(\"cf-footer-item-ip\"),c=a.getElementById(\"cf-footer-ip-reveal\");b&&\"classList\"in b&&(b.classList.remove(\"hidden\"),c.addEventListener(\"click\",function(){c.classList.add(\"hidden\");a.getElementById(\"cf-footer-ip\").classList.remove(\"hidden\")}))}var a=document;document.addEventListener&&a.addEventListener(\"DOMContentLoaded\",d)})();</script>\n",
       "</div><!-- /.error-footer -->\n",
       "</div><!-- /#cf-error-details -->\n",
       "</div><!-- /#cf-wrapper -->\n",
       "<script>\n",
       "  window._cf_translation = {};\n",
       "  \n",
       "  \n",
       "</script>\n",
       "<script crossorigin=\"anonymous\" data-cf-beacon='{\"rayId\":\"783e2b48e87376ab\",\"token\":\"e4b4f9155f05483494faa3d260e4875f\",\"version\":\"2022.11.3\",\"si\":100}' defer=\"\" integrity=\"sha512-0ahDYl866UMhKuYcW078ScMalXqtFJggm7TmlUtp0UlD4eQk0Ixfnm5ykXKvGJNFjLMoortdseTfsRT8oCfgGA==\" src=\"https://static.cloudflareinsights.com/beacon.min.js/vaafb692b2aea4879b33c060e79fe94621666317369993\"></script>\n",
       "</body>\n",
       "</html>"
      ]
     },
     "execution_count": 44,
     "metadata": {},
     "output_type": "execute_result"
    }
   ],
   "source": [
    "soup"
   ]
  },
  {
   "cell_type": "code",
   "execution_count": 38,
   "metadata": {},
   "outputs": [
    {
     "data": {
      "text/plain": [
       "{}"
      ]
     },
     "execution_count": 38,
     "metadata": {},
     "output_type": "execute_result"
    }
   ],
   "source": [
    "my_dict"
   ]
  },
  {
   "cell_type": "code",
   "execution_count": null,
   "metadata": {},
   "outputs": [],
   "source": []
  }
 ],
 "metadata": {
  "kernelspec": {
   "display_name": "f_venv",
   "language": "python",
   "name": "python3"
  },
  "language_info": {
   "codemirror_mode": {
    "name": "ipython",
    "version": 3
   },
   "file_extension": ".py",
   "mimetype": "text/x-python",
   "name": "python",
   "nbconvert_exporter": "python",
   "pygments_lexer": "ipython3",
   "version": "3.11.1"
  },
  "orig_nbformat": 4,
  "vscode": {
   "interpreter": {
    "hash": "b219bb25f2983647e3989600558b4c91a838e133b06483909f710a157dc52885"
   }
  }
 },
 "nbformat": 4,
 "nbformat_minor": 2
}
