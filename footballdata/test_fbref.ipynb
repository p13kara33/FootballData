{
 "cells": [
  {
   "cell_type": "markdown",
   "metadata": {},
   "source": [
    "### How many games does a team needs to win to be crowned champions?\n",
    "\n",
    "First we will need to import the standing tables"
   ]
  },
  {
   "cell_type": "code",
   "execution_count": null,
   "metadata": {},
   "outputs": [],
   "source": [
    "import numpy as np\n",
    "import pandas as pd\n",
    "my_list_first =pd.read_html(\"https://fbref.com/en/comps/9/2021-2022/\")\n",
    "my_list = my_list_first.copy()"
   ]
  },
  {
   "cell_type": "code",
   "execution_count": null,
   "metadata": {},
   "outputs": [],
   "source": [
    "squad_std_stats = my_list[2]\n",
    "cols = squad_std_stats.columns\n",
    "index = np.array(squad_std_stats['Unnamed: 0_level_0', 'Squad'])\n",
    "squad_std_stats.head()"
   ]
  },
  {
   "cell_type": "code",
   "execution_count": null,
   "metadata": {},
   "outputs": [],
   "source": [
    "# df_std = squad_std_stats[unnamed_cols].droplevel(0, axis=1)\n",
    "squad_std_stats.index = index\n",
    "df_pl_time = squad_std_stats[\"Playing Time\"]\n",
    "df_pl_time.head()"
   ]
  },
  {
   "cell_type": "code",
   "execution_count": null,
   "metadata": {},
   "outputs": [],
   "source": [
    "from library import edit_standard_stats_table"
   ]
  },
  {
   "cell_type": "code",
   "execution_count": null,
   "metadata": {},
   "outputs": [],
   "source": [
    "df_list = edit_standard_stats_table(my_list[2], my_list[3])"
   ]
  },
  {
   "cell_type": "code",
   "execution_count": null,
   "metadata": {},
   "outputs": [],
   "source": [
    "col_0 = [[\"Performance\", \"Penalty Kicks\"], [ \"Goals\", \"Expected\", \"Launched\", \"Passes\", \"Goal Kicks\", \"Crosses\", \"Sweeper\"]]\n"
   ]
  },
  {
   "cell_type": "code",
   "execution_count": null,
   "metadata": {},
   "outputs": [],
   "source": [
    "gk_df = my_list[4]\n",
    "index = np.array(gk_df[\"Unnamed: 0_level_0\", \"Squad\"])\n",
    "gk_df.index = index\n",
    "gk_df = gk_df[col_0[0]]\n",
    "gk_df = gk_df.droplevel(0, axis=1)\n",
    "gk_df.drop(columns=[\"W\", \"D\", \"L\"], inplace=True)"
   ]
  },
  {
   "cell_type": "code",
   "execution_count": null,
   "metadata": {},
   "outputs": [],
   "source": [
    "from library import _edit_opp_df\n",
    "gk_opp_df = my_list[5].copy()\n",
    "gk_opp_df = _edit_opp_df(gk_opp_df)\n",
    "gk_opp_df.index = index\n",
    "gk_opp_df = gk_opp_df[col_0[0]]\n",
    "gk_opp_df = gk_opp_df.droplevel(0, axis=1)\n",
    "gk_opp_df.drop(columns=[\"W_Opp\", \"D_Opp\", \"L_Opp\"], inplace=True)\n",
    "gk_overall = gk_df.join(gk_opp_df)"
   ]
  },
  {
   "cell_type": "code",
   "execution_count": null,
   "metadata": {},
   "outputs": [],
   "source": [
    "gk_overall.columns"
   ]
  },
  {
   "cell_type": "code",
   "execution_count": null,
   "metadata": {},
   "outputs": [],
   "source": []
  }
 ],
 "metadata": {
  "kernelspec": {
   "display_name": "f_venv",
   "language": "python",
   "name": "python3"
  },
  "language_info": {
   "codemirror_mode": {
    "name": "ipython",
    "version": 3
   },
   "file_extension": ".py",
   "mimetype": "text/x-python",
   "name": "python",
   "nbconvert_exporter": "python",
   "pygments_lexer": "ipython3",
   "version": "3.11.1 (main, Dec  7 2022, 01:11:44) [GCC 9.4.0]"
  },
  "orig_nbformat": 4,
  "vscode": {
   "interpreter": {
    "hash": "c49f784a6f151b9801c824c65c83f7b30739cc880d4aa28c6e02f98bdc41010b"
   }
  }
 },
 "nbformat": 4,
 "nbformat_minor": 2
}
