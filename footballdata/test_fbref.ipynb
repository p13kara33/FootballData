{
 "cells": [
  {
   "cell_type": "markdown",
   "metadata": {},
   "source": [
    "### How many games does a team needs to win to be crowned champions?\n",
    "\n",
    "First we will need to import the standing tables"
   ]
  },
  {
   "cell_type": "code",
   "execution_count": 2,
   "metadata": {},
   "outputs": [],
   "source": [
    "import numpy as np\n",
    "import pandas as pd\n",
    "from library import (\n",
    "    get_squad_as_index,\n",
    "    remove_unnamed_cols,\n",
    "    clean_opp_df,\n",
    "    clean_main_df,\n",
    "    merge_dfs,\n",
    "    get_single_season_league_data,\n",
    ")\n"
   ]
  },
  {
   "cell_type": "code",
   "execution_count": 3,
   "metadata": {},
   "outputs": [],
   "source": [
    "my_list_first =pd.read_html(\"https://fbref.com/en/comps/9/2021-2022/\")\n",
    "leagues_list = my_list_first.copy()"
   ]
  },
  {
   "cell_type": "code",
   "execution_count": null,
   "metadata": {},
   "outputs": [],
   "source": []
  }
 ],
 "metadata": {
  "kernelspec": {
   "display_name": "f_venv",
   "language": "python",
   "name": "python3"
  },
  "language_info": {
   "codemirror_mode": {
    "name": "ipython",
    "version": 3
   },
   "file_extension": ".py",
   "mimetype": "text/x-python",
   "name": "python",
   "nbconvert_exporter": "python",
   "pygments_lexer": "ipython3",
   "version": "3.11.1"
  },
  "orig_nbformat": 4,
  "vscode": {
   "interpreter": {
    "hash": "c49f784a6f151b9801c824c65c83f7b30739cc880d4aa28c6e02f98bdc41010b"
   }
  }
 },
 "nbformat": 4,
 "nbformat_minor": 2
}
